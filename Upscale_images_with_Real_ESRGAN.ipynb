{
  "cells": [
    {
      "cell_type": "markdown",
      "metadata": {
        "id": "view-in-github",
        "colab_type": "text"
      },
      "source": [
        "<a href=\"https://colab.research.google.com/github/kirbah/ai-colabs/blob/main/Upscale_images_with_Real_ESRGAN.ipynb\" target=\"_parent\"><img src=\"https://colab.research.google.com/assets/colab-badge.svg\" alt=\"Open In Colab\"/></a>"
      ]
    },
    {
      "cell_type": "markdown",
      "source": [
        "Upscale images using - https://github.com/xinntao/Real-ESRGAN\n",
        "\n",
        "Images from GDrive - current_drive_path (defined below) are processed.\n",
        "\n",
        "*   current_drive_path/images - folder with sources images\n",
        "*   current_drive_path/images_upscaled - result of 4x upscale"
      ],
      "metadata": {
        "id": "LFt5DhCyLAnJ"
      }
    },
    {
      "cell_type": "code",
      "source": [
        "from google.colab import drive\n",
        "\n",
        "drive.mount('/content/drive')"
      ],
      "metadata": {
        "id": "QX-5hWqSpeo_",
        "colab": {
          "base_uri": "https://localhost:8080/"
        },
        "outputId": "2b35aa44-42f0-435a-97c4-79a1f0145731"
      },
      "execution_count": null,
      "outputs": [
        {
          "output_type": "stream",
          "name": "stdout",
          "text": [
            "Mounted at /content/drive\n"
          ]
        }
      ]
    },
    {
      "cell_type": "code",
      "source": [
        "# Clone Real-ESRGAN and enter the Real-ESRGAN\n",
        "!git clone https://github.com/kirbah/Real-ESRGAN.git\n",
        "%cd Real-ESRGAN\n",
        "# Set up the environment\n",
        "!pip install -r requirements.txt\n",
        "!python setup.py develop"
      ],
      "metadata": {
        "id": "2IleITbd9wKm"
      },
      "execution_count": null,
      "outputs": []
    },
    {
      "cell_type": "code",
      "source": [
        "# --- Load scenes from JSON file ---\n",
        "import os\n",
        "current_drive_path = \"/content/drive/MyDrive/FOLDER_IN_DRIVE\"\n",
        "\n",
        "source_images_path = os.path.join(current_drive_path, \"images\")\n",
        "output_images_big_path = os.path.join(current_drive_path, \"images_upscaled\")\n",
        "# Create the directory if it doesn't exist\n",
        "os.makedirs(output_images_big_path, exist_ok=True)"
      ],
      "metadata": {
        "id": "pIlAdMSmpw5K"
      },
      "execution_count": null,
      "outputs": []
    },
    {
      "cell_type": "markdown",
      "source": [
        "Run Upscale"
      ],
      "metadata": {
        "id": "q6JlU5_ELyl_"
      }
    },
    {
      "cell_type": "code",
      "source": [
        "# if it is out of memory, try to use the `--tile` option\n",
        "# We upsample the image with the scale factor X4\n",
        "!python inference_realesrgan.py -n RealESRGAN_x4plus -i {source_images_path} -o {output_images_big_path} --outscale 4\n",
        "# Arguments\n",
        "# -n, --model_name: Model names\n",
        "# -i, --input: input folder or image\n",
        "# '-o', '--output', type=str, default='results', help='Output folder'\n",
        "# --outscale: Output scale, can be arbitrary scale factore.\n",
        "# --face_enhance"
      ],
      "metadata": {
        "id": "oLcafYtkMHv3",
        "colab": {
          "base_uri": "https://localhost:8080/"
        },
        "outputId": "d3d7154f-018d-4af8-a621-9d506923813d"
      },
      "execution_count": null,
      "outputs": [
        {
          "output_type": "stream",
          "name": "stdout",
          "text": [
            "Testing 0 scene001\n",
            "Testing 1 scene002\n",
            "Testing 2 scene003\n",
            "Testing 3 scene004\n",
            "Testing 4 scene005\n",
            "Testing 5 scene006\n",
            "Testing 6 scene007\n",
            "Testing 7 scene008\n",
            "Testing 8 scene009\n",
            "Testing 9 scene010\n",
            "Testing 10 scene011\n",
            "Testing 11 scene012\n",
            "Testing 12 scene013\n",
            "Testing 13 scene014\n",
            "Testing 14 scene015\n",
            "Testing 15 scene016\n",
            "Testing 16 scene017\n",
            "Testing 17 scene018\n",
            "Testing 18 scene019\n",
            "Testing 19 scene020\n",
            "Testing 20 scene021\n",
            "Testing 21 scene022\n",
            "Testing 22 scene023\n",
            "Testing 23 scene024\n",
            "Testing 24 scene025\n",
            "Testing 25 scene026\n",
            "Testing 26 scene027\n",
            "Testing 27 scene028\n",
            "Testing 28 scene029\n",
            "Testing 29 scene030\n",
            "Testing 30 scene031\n",
            "Testing 31 scene032\n",
            "Testing 32 scene033\n",
            "Testing 33 scene034\n",
            "Testing 34 scene035\n",
            "Testing 35 scene036\n",
            "Testing 36 scene037\n"
          ]
        }
      ]
    }
  ],
  "metadata": {
    "accelerator": "GPU",
    "colab": {
      "gpuType": "T4",
      "provenance": [],
      "include_colab_link": true
    },
    "kernelspec": {
      "display_name": "Python 3",
      "name": "python3"
    },
    "language_info": {
      "name": "python"
    }
  },
  "nbformat": 4,
  "nbformat_minor": 0
}